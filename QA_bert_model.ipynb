{
  "nbformat": 4,
  "nbformat_minor": 0,
  "metadata": {
    "colab": {
      "provenance": [],
      "authorship_tag": "ABX9TyNP8FJtcbYpzAFvM8UnMzcz",
      "include_colab_link": true
    },
    "kernelspec": {
      "name": "python3",
      "display_name": "Python 3"
    },
    "language_info": {
      "name": "python"
    }
  },
  "cells": [
    {
      "cell_type": "markdown",
      "metadata": {
        "id": "view-in-github",
        "colab_type": "text"
      },
      "source": [
        "<a href=\"https://colab.research.google.com/github/hassansardar193/Natural_Language_Processing-Question_Answering/blob/main/QA_bert_model.ipynb\" target=\"_parent\"><img src=\"https://colab.research.google.com/assets/colab-badge.svg\" alt=\"Open In Colab\"/></a>"
      ]
    },
    {
      "cell_type": "code",
      "execution_count": null,
      "metadata": {
        "id": "hW_CKAb4kGBt"
      },
      "outputs": [],
      "source": [
        "import torch\n",
        "from transformers import AutoTokenizer, AutoModelForQuestionAnswering\n",
        "\n",
        "def calculate_f1_score(predictions, ground_truths):\n",
        "    tp, fp, fn = 0, 0, 0\n",
        "    for prediction, ground_truth in zip(predictions, ground_truths):\n",
        "        if prediction == ground_truth:\n",
        "            tp += 1\n",
        "        else:\n",
        "            fp += 1\n",
        "            fn += 1\n",
        "    precision = tp / (tp + fp)\n",
        "    recall = tp / (tp + fn)\n",
        "    f1 = 2 * (precision * recall) / (precision + recall)\n",
        "    return f1\n",
        "\n",
        "def calculate_exact_match(predictions, ground_truths):\n",
        "    em = 0\n",
        "    for prediction, ground_truth in zip(predictions, ground_truths):\n",
        "        if prediction == ground_truth:\n",
        "            em += 1\n",
        "    em = em / len(predictions)\n",
        "    return em\n",
        "\n",
        "def answer_question(model, tokenizer, question, text):\n",
        "    input_ids = tokenizer.encode(question, text)\n",
        "    attention_mask = [1] * len(input_ids)\n",
        "    start_scores, end_scores = model(torch.tensor([input_ids]), attention_mask=torch.tensor([attention_mask]))\n",
        "    answer_start = torch.argmax(start_scores)\n",
        "    answer_end = torch.argmax(end_scores)\n",
        "    answer = tokenizer.decode(input_ids[answer_start:answer_end+1])\n",
        "    return answer\n",
        "\n",
        "model_name = \"distilbert-base-cased-distilled-squad\"\n",
        "\n",
        "tokenizer = AutoTokenizer.from_pretrained(model_name)\n",
        "model = AutoModelForQuestionAnswering.from_pretrained(model_name)\n",
        "\n",
        "questions = [..., ..., ...]  # List of questions\n",
        "texts = [..., ..., ...]  # List of text passages\n",
        "predictions = []\n",
        "ground_truths = []\n",
        "\n",
        "for question, text in zip(questions, texts):\n",
        "    prediction = answer_question(model, tokenizer, question, text)\n",
        "    ground_truth = ...  # Get the ground truth answer for the question\n",
        "    predictions.append(prediction)\n",
        "    ground_truths.append(ground_truth)\n",
        "\n",
        "f1 = calculate_f1_score(predictions, ground_truths)\n",
        "em = calculate_exact_match(predictions, ground_truths)\n",
        "\n",
        "print(\"F1 Score: \", f1)\n",
        "print(\"Exact Match: \", em)\n"
      ]
    }
  ]
}